{
 "cells": [
  {
   "cell_type": "code",
   "execution_count": 99,
   "metadata": {},
   "outputs": [
    {
     "name": "stdout",
     "output_type": "stream",
     "text": [
      "         user_id  item_id\n",
      "0              0      257\n",
      "1              0      267\n",
      "2              0     5555\n",
      "3              0     3637\n",
      "4              0     1795\n",
      "...          ...      ...\n",
      "5869626    49801     4655\n",
      "5869627    49801     5091\n",
      "5869628    49801     5294\n",
      "5869629    49801     5608\n",
      "5869630    49801     5683\n",
      "\n",
      "[5869631 rows x 2 columns] \n",
      "\n",
      "         user_id  item_id\n",
      "0              1      258\n",
      "1              1      268\n",
      "2              1     5556\n",
      "3              1     3638\n",
      "4              1     1796\n",
      "...          ...      ...\n",
      "5869626    49802     4656\n",
      "5869627    49802     5092\n",
      "5869628    49802     5295\n",
      "5869629    49802     5609\n",
      "5869630    49802     5684\n",
      "\n",
      "[5869631 rows x 2 columns] \n",
      "\n",
      "max_user_id: 53424\n",
      "max_item_id: 10000\n"
     ]
    }
   ],
   "source": [
    "#【数据处理】\n",
    "import pandas as pd\n",
    "data = pd.read_csv('datasets/train.csv')\n",
    "# print(\"max_user_id:\",data.user_id.max())\n",
    "# print(\"max_item_id:\",data.item_id.max())\n",
    "print(data,'\\n')\n",
    "data.iloc[:,:]+=1 #将两列所有元素都+1\n",
    "max_user_id=data.user_id.max()\n",
    "max_item_id=data.item_id.max()\n",
    "print(data,'\\n')\n",
    "data.to_csv(\"data/book.txt\",index=0,header=0,sep=' ')\n",
    "\n",
    "print(\"max_user_id:\",max_user_id)\n",
    "print(\"max_item_id:\",max_item_id)"
   ]
  },
  {
   "cell_type": "code",
   "execution_count": 101,
   "metadata": {},
   "outputs": [],
   "source": [
    "#【训练】\n",
    "%run main.py --dataset=book --train_dir=trainstatus --num_epochs=50 --eval_epochs=5 --device=cuda"
   ]
  },
  {
   "cell_type": "code",
   "execution_count": null,
   "metadata": {},
   "outputs": [
    {
     "data": {
      "image/png": "[encoded data removed]",
      "text/plain": [
       "<Figure size 640x480 with 1 Axes>"
      ]
     },
     "metadata": {},
     "output_type": "display_data"
    }
   ],
   "source": [
    "import matplotlib.pyplot as plt\n",
    "\n",
    "epoch,loss=[],[]\n",
    "with open(\"./book_trainstatus/log_datailed.txt\",\"r\") as file:\n",
    "    for line in file:\n",
    "        if \"epoch=\" in line and \"loss=\" in line:\n",
    "            tmp=line.split()\n",
    "            epoch.append(int(tmp[0].replace(\"epoch=\",\"\").replace(\":\",\"\")))\n",
    "            loss.append(float(tmp[1].replace(\"loss=\",\"\")))\n",
    "\n",
    "plt.subplot(1,2,1)\n",
    "plt.xlabel('epochs')\n",
    "plt.ylabel('loss')\n",
    "plt.plot(epoch, loss, 'r')\n",
    "\n",
    "plt.show()"
   ]
  },
  {
   "cell_type": "code",
   "execution_count": 4,
   "metadata": {},
   "outputs": [
    {
     "data": {
      "text/plain": [
       "SASRec(\n",
       "  (item_emb): Embedding(10001, 50, padding_idx=0)\n",
       "  (pos_emb): Embedding(201, 50, padding_idx=0)\n",
       "  (emb_dropout): Dropout(p=0.2, inplace=False)\n",
       "  (attention_layernorms): ModuleList(\n",
       "    (0-1): 2 x LayerNorm((50,), eps=1e-08, elementwise_affine=True)\n",
       "  )\n",
       "  (attention_layers): ModuleList(\n",
       "    (0-1): 2 x MultiheadAttention(\n",
       "      (out_proj): NonDynamicallyQuantizableLinear(in_features=50, out_features=50, bias=True)\n",
       "    )\n",
       "  )\n",
       "  (forward_layernorms): ModuleList(\n",
       "    (0-1): 2 x LayerNorm((50,), eps=1e-08, elementwise_affine=True)\n",
       "  )\n",
       "  (forward_layers): ModuleList(\n",
       "    (0-1): 2 x PointWiseFeedForward(\n",
       "      (conv1): Conv1d(50, 50, kernel_size=(1,), stride=(1,))\n",
       "      (dropout1): Dropout(p=0.2, inplace=False)\n",
       "      (relu): ReLU()\n",
       "      (conv2): Conv1d(50, 50, kernel_size=(1,), stride=(1,))\n",
       "      (dropout2): Dropout(p=0.2, inplace=False)\n",
       "    )\n",
       "  )\n",
       "  (last_layernorm): LayerNorm((50,), eps=1e-08, elementwise_affine=True)\n",
       ")"
      ]
     },
     "execution_count": 4,
     "metadata": {},
     "output_type": "execute_result"
    }
   ],
   "source": [
    "#【载入模型参数】\n",
    "from model import SASRec\n",
    "import torch\n",
    "class args():\n",
    "    def __init__(self):\n",
    "        self.dataset = 'book'\n",
    "        self.train_dir = 'trainstatus'\n",
    "        self.batch_size = 128\n",
    "        self.lr = 0.001\n",
    "        self.maxlen = 200\n",
    "        self.hidden_units = 50\n",
    "        self.num_blocks = 2\n",
    "        self.num_epochs = 50\n",
    "        self.eval_epochs = 5\n",
    "        self.num_heads  = 1\n",
    "        self.dropout_rate = 0.2\n",
    "        self.l2_emb = 0.0\n",
    "        self.inference_only = False\n",
    "        self.state_dict_path = './book_trainstatus/SASRec.epoch=40.lr=0.001.layer=2.head=1.hidden=50.maxlen=200.pth'\n",
    "        self.device = 'cuda'\n",
    "\n",
    "args=args()\n",
    "#max_user_id: 53424\n",
    "#max_item_id: 10000\n",
    "model = SASRec(53424, 10000, args).to(args.device)\n",
    "model.load_state_dict(torch.load(args.state_dict_path, map_location=torch.device(args.device)))\n",
    "model.eval()"
   ]
  },
  {
   "cell_type": "code",
   "execution_count": 5,
   "metadata": {},
   "outputs": [
    {
     "name": "stderr",
     "output_type": "stream",
     "text": [
      "100%|██████████| 5869631/5869631 [00:06<00:00, 949067.06it/s] \n"
     ]
    }
   ],
   "source": [
    "#【构造预测结果】\n",
    "from tqdm import tqdm\n",
    "from collections import defaultdict\n",
    "\n",
    "usernum = 0\n",
    "itemnum = 0\n",
    "User = defaultdict(list)\n",
    "# assume user/item index starting from 1\n",
    "f = open('data/book.txt', 'r')\n",
    "lines = f.readlines()\n",
    "for line in tqdm(lines):\n",
    "    u, i = line.rstrip().split(' ')\n",
    "    u = int(u)\n",
    "    i = int(i)\n",
    "    usernum = max(u, usernum)\n",
    "    itemnum = max(i, itemnum)\n",
    "    User[u].append(i)\n",
    "f.close()"
   ]
  },
  {
   "cell_type": "code",
   "execution_count": 7,
   "metadata": {},
   "outputs": [
    {
     "name": "stderr",
     "output_type": "stream",
     "text": [
      "100%|██████████| 53424/53424 [02:05<00:00, 427.21it/s]\n"
     ]
    }
   ],
   "source": [
    "#【构造预测结果】\n",
    "from model import SASRec\n",
    "import numpy as np\n",
    "from tqdm import tqdm\n",
    "import torch\n",
    "\n",
    "file = open('./submission.csv','w')\n",
    "file.write('user_id,item_id'+'\\n')\n",
    "add_item=set(range(1, itemnum+1))\n",
    "with torch.no_grad():\n",
    "    for u in tqdm(range(1,usernum+1)):\n",
    "        seq = np.zeros([args.maxlen], dtype=np.int32)\n",
    "        idx = args.maxlen - 1\n",
    "        for i in reversed(User[u]):\n",
    "            seq[idx] = i\n",
    "            idx -= 1\n",
    "            if idx == -1: break\n",
    "        \n",
    "        pred_item = list(add_item-set(User[i]))\n",
    "        pred_item = np.array(pred_item)\n",
    "        length = len(pred_item)\n",
    "        u_np,seq = np.array(u),np.array([seq])\n",
    "\n",
    "        preds = model.predict(*[u_np, seq, pred_item])[0].detach().cpu()\n",
    "        preds_max = np.array(-preds).argsort()[:10]\n",
    "        ans = np.array(pred_item)[preds_max]\n",
    "        ans.sort()\n",
    "        # print(\"{}: {}\".format(u-1,ans-1))\n",
    "        output = \"\\n\".join([\"{},{}\".format(u-1,i-1) for i in ans])\n",
    "        file.write(output+'\\n')\n",
    "file.close()\n"
   ]
  }
 ],
 "metadata": {
  "kernelspec": {
   "display_name": "Python 3",
   "language": "python",
   "name": "python3"
  },
  "language_info": {
   "codemirror_mode": {
    "name": "ipython",
    "version": 3
   },
   "file_extension": ".py",
   "mimetype": "text/x-python",
   "name": "python",
   "nbconvert_exporter": "python",
   "pygments_lexer": "ipython3",
   "version": "3.10.14"
  }
 },
 "nbformat": 4,
 "nbformat_minor": 2
}
